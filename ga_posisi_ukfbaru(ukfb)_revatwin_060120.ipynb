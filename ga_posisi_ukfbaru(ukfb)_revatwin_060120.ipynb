{
 "cells": [
  {
   "cell_type": "markdown",
   "metadata": {},
   "source": [
    "credits to the YOLO v4 repository that I use as the backbone of this."
   ]
  },
  {
   "cell_type": "code",
   "execution_count": 1,
   "metadata": {
    "scrolled": false
   },
   "outputs": [
    {
     "name": "stderr",
     "output_type": "stream",
     "text": [
      "Failed to load Python extension for LZ4 support. LZ4 compression will not be available.\n"
     ]
    }
   ],
   "source": [
    "import numpy as np\n",
    "import pandas as pd\n",
    "import rosbag\n",
    "import os\n",
    "import yaml\n",
    "import random\n",
    "import math as m\n",
    "from scipy.spatial.distance import cdist\n",
    "from math import sqrt\n",
    "import matplotlib.pyplot as plt\n",
    "import matplotlib\n",
    "from sklearn.metrics import mean_squared_error as mse, mean_absolute_error"
   ]
  },
  {
   "cell_type": "markdown",
   "metadata": {},
   "source": [
    "ganti yaml tiap awal generasi"
   ]
  },
  {
   "cell_type": "code",
   "execution_count": 2,
   "metadata": {
    "scrolled": false
   },
   "outputs": [],
   "source": [
    "#function for changing the parameter values (YAML file is used for the params to be called from the main UKF program)\n",
    "def tes_yaml(P,Q):\n",
    "    with open('/home/tartila/catkin_ws/src/golfi/config/ukf_ule_ga_params.yaml') as tes:             \n",
    "        doc=yaml.safe_load(tes)\n",
    "    if Q is not None:\n",
    "        doc['process_noise_covariance_Q'] = Q\n",
    "        doc['initial_estimate_covariance_P'] = P\n",
    "   \n",
    "    with open('/home/tartila/catkin_ws/src/golfi/config/ukf_ule_ga_params.yaml','w') as tes:      #save as\n",
    "        yaml.safe_dump(doc, tes, indent=2, allow_unicode=False) #dah berhasil ni     "
   ]
  },
  {
   "cell_type": "markdown",
   "metadata": {},
   "source": [
    "jalanin roslaunch berisi rosbag play, ukf dengan yaml baru untuk setiap generasi, dan rosbag record"
   ]
  },
  {
   "cell_type": "code",
   "execution_count": 3,
   "metadata": {
    "scrolled": false
   },
   "outputs": [],
   "source": [
    "#function for launching the 3 nodes: rosbag play back, the ukf algorithm, the recording of the rosbag to a temporary rosbag file that saves the estimation from the UKF\n",
    "def launch():\n",
    "    !roslaunch /home/tartila/catkin_ws/src/golfi/launch/ukf_ule_ga.launch"
   ]
  },
  {
   "cell_type": "markdown",
   "metadata": {},
   "source": [
    "jalanin rosbag import cari rmse"
   ]
  },
  {
   "cell_type": "code",
   "execution_count": 4,
   "metadata": {
    "scrolled": false
   },
   "outputs": [],
   "source": [
    "#function for loading the estimation values recorded in the temporary bag file\n",
    "def ambil_bag():\n",
    "    bag = rosbag.Bag('ga_temp.bag')\n",
    "#     print(bag)\n",
    "    states_xy=[]\n",
    "    states_xy_baru=[]\n",
    "    t = []\n",
    "\n",
    "    for topic, msg, time in bag.read_messages(topics=['/ukf_states']):\n",
    "        states_xy.append([msg.x,msg.y])\n",
    "        t.append(msg.stamp.to_sec())\n",
    "    \n",
    "    states_xy = np.array(states_xy)\n",
    "    t = np.array(t)\n",
    "    \n",
    "    states_xy = states_xy[np.all(states_xy != 0,axis = 1)] #buang yg 0\n",
    "    states_xy = states_xy[np.all(~np.isnan(states_xy),axis = 1)] #buang yg nan\n",
    "    t = t[t != 0]\n",
    "\n",
    "    utm=[]\n",
    "    utm_baru=[]\n",
    "    t_utm = []\n",
    "\n",
    "    for topic, msg, time in bag.read_messages(topics=['/utm']):\n",
    "        utm.append([msg.pose.pose.position.x,msg.pose.pose.position.y])\n",
    "        t_utm.append(time.to_sec())\n",
    "        \n",
    "    utm = np.array(utm)\n",
    "    t_utm = np.array(t_utm)\n",
    "\n",
    "    min = utm[0]\n",
    "\n",
    "    i=0\n",
    "    for a in states_xy:\n",
    "        states_xy_baru.append([states_xy[i,0]-min[0],states_xy[i,1]-min[1]])\n",
    "        i=i+1\n",
    "    states_xy_baru=np.array(states_xy_baru)\n",
    "    \n",
    "    i=0\n",
    "    for a in utm:\n",
    "        utm_baru.append([utm[i,0]-min[0],utm[i,1]-min[1]])\n",
    "        i=i+1\n",
    "    utm_baru=np.array(utm_baru)\n",
    "    return states_xy_baru, utm_baru, t, t_utm\n",
    "\n",
    "def err2(est, gt, t_est, t_gt):\n",
    "    j = 1\n",
    "    sample_est = []\n",
    "    sample_gt = []\n",
    "    for i in range(1, len(t_gt)):\n",
    "        while (t_gt[i] > t_est[j]):\n",
    "            j += 1\n",
    "            \n",
    "        sample_est.append(est[j])\n",
    "        sample_gt.append(gt[i])\n",
    "    rmsee=sqrt(mse(sample_gt, sample_est))\n",
    "    maee=mean_absolute_error(sample_gt, sample_est)\n",
    "    print(\"rmse: \"+str(rmsee)+\"\\nmae: \"+str(maee))\n",
    "    return rmsee,maee\n"
   ]
  },
  {
   "cell_type": "code",
   "execution_count": 5,
   "metadata": {
    "scrolled": false
   },
   "outputs": [],
   "source": [
    "#function for fitness evaluation\n",
    "def fitness(rmse_groundtruth):\n",
    "    t=1\n",
    "#     if rmse_titikutm<0.0605: #value is acquired from observation\n",
    "#         t=0\n",
    "    return t/rmse_groundtruth"
   ]
  },
  {
   "cell_type": "code",
   "execution_count": 6,
   "metadata": {
    "scrolled": false
   },
   "outputs": [],
   "source": [
    "#function for plotting the estimation and the (unextended) GNSS points \n",
    "def plot(estimasi,gnss):\n",
    "    plt.figure(figsize=(10,10))\n",
    "    matplotlib.style.use('default')\n",
    "\n",
    "    plt.scatter(estimasi[:,0],estimasi[:,1],s=2.,color='k') #odometry/filtered_map\n",
    "    plt.scatter(gnss[:,0],gnss[:,1],s=5.,marker=\"x\",c='C3',alpha=1)\n",
    "    plt.show()"
   ]
  },
  {
   "cell_type": "markdown",
   "metadata": {},
   "source": [
    "GA"
   ]
  },
  {
   "cell_type": "code",
   "execution_count": 7,
   "metadata": {
    "scrolled": false
   },
   "outputs": [],
   "source": [
    "#function for saving the acquired parameter values to an external .txt file\n",
    "def catat(ptemp,qtemp,errortemp,fitnesstemp,p_path,q_path,error_path,error_bygen_path,fitness_path):\n",
    "    p='%14.4g' * len(ptemp) % tuple(ptemp)\n",
    "    q='%14.4g' * len(qtemp) % tuple(qtemp)\n",
    "    error=str(errortemp)\n",
    "    fitness=str(fitnesstemp)\n",
    "    \n",
    "    with open(p_path, 'a') as h:  \n",
    "        h.write(p + '\\n')\n",
    "    with open(q_path, 'a') as h: \n",
    "        h.write(q + '\\n')\n",
    "    with open(error_path, 'a') as h:  \n",
    "        h.write(error + '\\n')\n",
    "    with open(error_bygen_path, 'a') as h:  \n",
    "        h.write(error + '\\n')\n",
    "    with open(fitness_path, 'a') as h:  \n",
    "        h.write(fitness + '\\n')\n",
    "        \n",
    "    x_q=np.loadtxt(q_path, ndmin=2)  \n",
    "    x_p=np.loadtxt(p_path, ndmin=2) \n",
    "\n",
    "    x_error=np.loadtxt(error_path, ndmin=2)\n",
    "    x_error_bygen=np.loadtxt(error_bygen_path, ndmin=2)\n",
    "    x_fitness=np.loadtxt(fitness_path, ndmin=2)\n",
    "    x_fitness_f=x_fitness.flatten()\n",
    "    \n",
    "    np.savetxt(p_path, x_p[np.argsort(-x_fitness_f)], '%10.5g')\n",
    "    np.savetxt(q_path, x_q[np.argsort(-x_fitness_f)], '%10.5g')\n",
    "    np.savetxt(error_path, x_error[np.argsort(-x_fitness_f)], '%10.5g')\n",
    "    np.savetxt(error_bygen_path, x_error_bygen, '%10.5g') #savenya berdasarkan error, loadnya berdasarkan fitness\n",
    "    np.savetxt(fitness_path, x_fitness[np.argsort(-x_fitness_f)], '%10.5g')  #[np.argsortnya ini nambah dimensi]"
   ]
  },
  {
   "cell_type": "code",
   "execution_count": 8,
   "metadata": {
    "ExecuteTime": {
     "end_time": "2021-01-06T06:44:40.329386Z",
     "start_time": "2021-01-06T06:44:40.322400Z"
    }
   },
   "outputs": [
    {
     "name": "stdout",
     "output_type": "stream",
     "text": [
      "0\n",
      "6\n",
      "12\n",
      "18\n",
      "24\n",
      "30\n"
     ]
    }
   ],
   "source": [
    "\n",
    "for a in range (0,31,6):\n",
    "    print(a)"
   ]
  },
  {
   "cell_type": "code",
   "execution_count": 9,
   "metadata": {
    "scrolled": false
   },
   "outputs": [
    {
     "name": "stdout",
     "output_type": "stream",
     "text": [
      "----------------------------------------------------------------------------------------------------\n",
      "Generasi ke-1 dari 1000\n",
      "... logging to /home/tartila/.ros/log/aca6f14c-5572-11eb-afed-74c63b0b1efd/roslaunch-tartila-G551VW-16548.log\n",
      "Checking log directory for disk usage. This may take a while.\n",
      "Press Ctrl-C to interrupt\n",
      "Done checking log file disk usage. Usage is <1GB.\n",
      "\u001b]2;/home/tartila/catkin_ws/src/golfi/launch/ukf_ule_ga.launch\u0007\n",
      "\u001b[1mstarted roslaunch server http://tartila-G551VW:35223/\u001b[0m\n",
      "\n",
      "SUMMARY\n",
      "========\n",
      "\n",
      "CLEAR PARAMETERS\n",
      " * /rosbag_play/\n",
      " * /rosbag_record/\n",
      "\n",
      "PARAMETERS\n",
      " * /R_enc: 0.001\n",
      " * /R_gnss: [0.09843, 0, 0, 0...\n",
      " * /R_imu: 1.894e-06\n",
      " * /R_tach: 5.538e-06\n",
      " * /initial_estimate_covariance_P: [9.898, 0, 0, 0, ...\n",
      " * /kappa: -2\n",
      " * /process_noise_covariance_Q: [0.07537, 0, 0, 0...\n",
      " * /rosdistro: melodic\n",
      " * /rosversion: 1.14.10\n",
      "\n",
      "NODES\n",
      "  /\n",
      "    rosbag_play (rosbag/play)\n",
      "    rosbag_record (rosbag/record)\n",
      "    ukf_localization_2d_enc_GA (golfi/ukf_localization_2d_enc_GA)\n",
      "    utm (gps_common/utm_odometry_node)\n",
      "\n",
      "\u001b[1mROS_MASTER_URI=http://localhost:11311\u001b[0m\n",
      "\u001b]2;/home/tartila/catkin_ws/src/golfi/launch/ukf_ule_ga.launch http://localhost:11311\u0007\n",
      "\u001b[1mprocess[ukf_localization_2d_enc_GA-1]: started with pid [16564]\u001b[0m\n",
      "\u001b[1mprocess[utm-2]: started with pid [16565]\u001b[0m\n",
      "\u001b[1mprocess[rosbag_play-3]: started with pid [16566]\u001b[0m\n",
      "\u001b[1mprocess[rosbag_record-4]: started with pid [16572]\u001b[0m\n",
      "\u001b[0m[ INFO] [1610523677.709548433]: Opening /home/tartila/catkin_ws/src/golfi/bag_tartila/sampel2.bag\u001b[0m\n",
      "Waiting 0.2 seconds after advertising topics... done.\n",
      "\n",
      "Hit space to toggle paused, or 's' to step.\n",
      "\n",
      "Done.\n",
      "\u001b[31m================================================================================REQUIRED process [rosbag_play-3] has died!\n",
      "process has finished cleanly\n",
      "log file: /home/tartila/.ros/log/aca6f14c-5572-11eb-afed-74c63b0b1efd/rosbag_play-3*.log\n",
      "Initiating shutdown!\n",
      "================================================================================\u001b[0m\n",
      "[rosbag_record-4] killing on exit\n",
      "[rosbag_play-3] killing on exit\n",
      "[utm-2] killing on exit\n",
      "[ukf_localization_2d_enc_GA-1] killing on exit\n",
      "shutting down processing monitor...\n",
      "... shutting down processing monitor complete\n",
      "\u001b[1mdone\u001b[0m\n",
      "rmse: 0.04908932459331773\n",
      "mae: 0.03717908766046486\n"
     ]
    },
    {
     "data": {
      "image/png": "[encoded data removed]",
      "text/plain": [
       "<Figure size 720x720 with 1 Axes>"
      ]
     },
     "metadata": {
      "needs_background": "light"
     },
     "output_type": "display_data"
    },
    {
     "name": "stdout",
     "output_type": "stream",
     "text": [
      "----------------------------------------------------------------------------------------------------\n",
      "Generasi ke-2 dari 1000\n"
     ]
    },
    {
     "ename": "ValueError",
     "evalue": "operands could not be broadcast together with shapes (1,25) (36,) ",
     "output_type": "error",
     "traceback": [
      "\u001b[0;31m---------------------------------------------------------------------------\u001b[0m",
      "\u001b[0;31mValueError\u001b[0m                                Traceback (most recent call last)",
      "\u001b[0;32m<ipython-input-9-b2d7899f977f>\u001b[0m in \u001b[0;36m<module>\u001b[0;34m\u001b[0m\n\u001b[1;32m     83\u001b[0m             \u001b[0mi\u001b[0m\u001b[0;34m+=\u001b[0m\u001b[0;36m1\u001b[0m\u001b[0;34m\u001b[0m\u001b[0;34m\u001b[0m\u001b[0m\n\u001b[1;32m     84\u001b[0m \u001b[0;34m\u001b[0m\u001b[0m\n\u001b[0;32m---> 85\u001b[0;31m         \u001b[0mp_temp\u001b[0m \u001b[0;34m=\u001b[0m \u001b[0;34m(\u001b[0m\u001b[0mp\u001b[0m\u001b[0;34m+\u001b[0m\u001b[0mm_p\u001b[0m\u001b[0;34m)\u001b[0m\u001b[0;34m.\u001b[0m\u001b[0mflatten\u001b[0m\u001b[0;34m(\u001b[0m\u001b[0;34m)\u001b[0m\u001b[0;34m.\u001b[0m\u001b[0mtolist\u001b[0m\u001b[0;34m(\u001b[0m\u001b[0;34m)\u001b[0m\u001b[0;34m\u001b[0m\u001b[0;34m\u001b[0m\u001b[0m\n\u001b[0m\u001b[1;32m     86\u001b[0m         \u001b[0mq_temp\u001b[0m \u001b[0;34m=\u001b[0m \u001b[0;34m(\u001b[0m\u001b[0mq\u001b[0m\u001b[0;34m+\u001b[0m\u001b[0mm_q\u001b[0m\u001b[0;34m)\u001b[0m\u001b[0;34m.\u001b[0m\u001b[0mflatten\u001b[0m\u001b[0;34m(\u001b[0m\u001b[0;34m)\u001b[0m\u001b[0;34m.\u001b[0m\u001b[0mtolist\u001b[0m\u001b[0;34m(\u001b[0m\u001b[0;34m)\u001b[0m\u001b[0;34m\u001b[0m\u001b[0;34m\u001b[0m\u001b[0m\n\u001b[1;32m     87\u001b[0m         \u001b[0mprint\u001b[0m\u001b[0;34m(\u001b[0m\u001b[0mnp\u001b[0m\u001b[0;34m.\u001b[0m\u001b[0mmatrix\u001b[0m\u001b[0;34m(\u001b[0m\u001b[0mp_temp\u001b[0m\u001b[0;34m)\u001b[0m\u001b[0;34m)\u001b[0m\u001b[0;34m\u001b[0m\u001b[0;34m\u001b[0m\u001b[0m\n",
      "\u001b[0;31mValueError\u001b[0m: operands could not be broadcast together with shapes (1,25) (36,) "
     ]
    }
   ],
   "source": [
    "#initializing the parameter values\n",
    "p_temp=[9.898, 0, 0, 0, 0, 0, 6.56, 0, 0, 0, 0, 0, 8.528, 0,\n",
    "  0, 0, 0, 0, 10.18, 0, 0, 0, 0, 0, 4.059] #hasil tune ga_yaw_dydx_2\n",
    "q_temp=[0.07537, 0, 0, 0, 0, 0, 0.2025, 0, 0, 0, 0, 0, 18.58, 0,\n",
    "  0, 0, 0, 0, 21.44, 0, 0, 0, 0, 0, 1.662]\n",
    " #hasil tune ga_yaw_dydx2\n",
    "\n",
    "generasi=1000 #define the max number of generations\n",
    "\n",
    "#defining the path for the parameter values to be saved to\n",
    "p_path = \"/home/tartila/catkin_ws/src/golfi/GA/p_path.txt\"\n",
    "q_path = \"/home/tartila/catkin_ws/src/golfi/GA/q_path.txt\"\n",
    "fitness_path = \"/home/tartila/catkin_ws/src/golfi/GA/fitness_path.txt\"\n",
    "error_path = \"/home/tartila/catkin_ws/src/golfi/GA/error_path_byfitness.txt\"\n",
    "error_bygen_path = \"/home/tartila/catkin_ws/src/golfi/GA/error_bygen.txt\"\n",
    "\n",
    "daftar_parameter=[]\n",
    "npr=np.random\n",
    "\n",
    "p_ortu=[]\n",
    "q_ortu=[]\n",
    "for i in range(generasi):\n",
    "    print(\"----------------------------------------------------------------------------------------------------\")\n",
    "    print(\"Generasi ke-\"+ str(i+1) + \" dari \" + str(generasi))\n",
    "\n",
    "    if os.path.exists(p_path):\n",
    "        p = np.loadtxt(p_path, ndmin=2)\n",
    "        q = np.loadtxt(q_path, ndmin=2)\n",
    "        error = np.loadtxt(error_path, ndmin=2)\n",
    "        fitness = np.loadtxt(fitness_path, ndmin=2)\n",
    "\n",
    "        #selection\n",
    "        n = min(36, len(p)) #defining the number of the individuals in the mating pool\n",
    "        fitness_f=fitness.flatten()\n",
    "        \n",
    "        p=p[np.argsort(-fitness_f)][:n] #load dari txt\n",
    "        q=q[np.argsort(-fitness_f)][:n]\n",
    "        error=error[np.argsort(-fitness_f)][:n]\n",
    "        fitness=fitness[np.argsort(-fitness_f)][:n]\n",
    "        batas_bawah=1e-03\n",
    "        daftar_parameter=[p[0],q[0]] #saving the parameters in p and q as an array\n",
    "        \n",
    "        #crossover (recombination of values)\n",
    "        if i>1: #picking the parents for the crossover\n",
    "            indeks_ortu1,indeks_ortu2=random.sample(range(0, n), 2)\n",
    "            p_ortu=p[[indeks_ortu1,indeks_ortu2],:]\n",
    "            q_ortu=q[[indeks_ortu1,indeks_ortu2],:]\n",
    "#             error_ortu=error[[indeks_ortu1,indeks_ortu2],:]\n",
    "            fitness_ortu=fitness[[indeks_ortu1,indeks_ortu2],:]\n",
    "            \n",
    "            w1=fitness_ortu[0]/(fitness_ortu[0]+fitness_ortu[1])\n",
    "            p=np.ones(36)\n",
    "            q=np.ones(36)\n",
    "\n",
    "            for j in range(36):\n",
    "                pilih_ortu=npr.random()\n",
    "                p[j]=(pilih_ortu<=w1)*p_ortu[0,j]+(pilih_ortu>w1)*p_ortu[1,j]\n",
    "\n",
    "            for j in range(36):\n",
    "                pilih_ortu=npr.random()\n",
    "                q[j]=(pilih_ortu<=w1)*q_ortu[0,j]+(pilih_ortu>w1)*q_ortu[1,j]\n",
    "\n",
    "        #mutation\n",
    "        mp,s=0.8,6 #mutation probability and the multiplying factor defined\n",
    "        if i<36: #the initial population number defined here\n",
    "            mp,s=1,10 #for initial population, mutation is used to randomly pick the values around the inital values defines before\n",
    "        penjumlah=[]\n",
    "        apakah_mutasi=npr.random()\n",
    "        if apakah_mutasi<mp:\n",
    "            for a in range(12):\n",
    "                penjumlah.append((npr.normal(0,1))) \n",
    "        else:\n",
    "            penjumlah=np.zeros(12) #no addition for mutation\n",
    "        \n",
    "        m_p=np.zeros(36)\n",
    "        m_q=np.zeros(36)\n",
    "        i=0\n",
    "        for b in range(0,36,7):\n",
    "            m_p[b]=penjumlah[i]\n",
    "            i+=1\n",
    "\n",
    "            m_q[b]=penjumlah[i]\n",
    "            i+=1\n",
    "            \n",
    "        p_temp = (p+m_p).flatten().tolist()\n",
    "        q_temp = (q+m_q).flatten().tolist()\n",
    "        print(np.matrix(p_temp))\n",
    "        for b in range(0,36,7):\n",
    "            if p_temp[b]<batas_bawah:\n",
    "                p_temp[b]=batas_bawah\n",
    "                \n",
    "        print(np.matrix(q_temp))\n",
    "        for c in range(0,36,7): #dibuat supaya q yaw tidak berubah\n",
    "            if q_temp[c]<batas_bawah:\n",
    "                q_temp[c]=batas_bawah\n",
    "\n",
    "            \n",
    "    #change the value of the parameter with the ones just acquired\n",
    "    tes_yaml(p_temp,q_temp)\n",
    "    #run the launch function\n",
    "    launch()\n",
    "    \n",
    "    #acquiring the fitness value by taking the estimation value from the temporary bag file (ga_temp.bag) and running the fitness evaluation function\n",
    "    hasil_ukf, utm, t_state, t_utm = ambil_bag()\n",
    "    \n",
    "    er_rmse,er_mae=err2(hasil_ukf, utm, t_state, t_utm)\n",
    "    \n",
    "#     ers = rmse(hasil_ukf, utm, t_state, t_utm)\n",
    "#     fit = fitness(errorr)\n",
    "    fit = 1/er_rmse\n",
    "    \n",
    "    #plot the estimation for every set of parameter values acquired\n",
    "    plot(hasil_ukf,utm)\n",
    "    \n",
    "    #saving the parameter values acquired\n",
    "    catat(p_temp,q_temp,er_rmse,fit,p_path,q_path,error_path,error_bygen_path,fitness_path)"
   ]
  },
  {
   "cell_type": "code",
   "execution_count": null,
   "metadata": {},
   "outputs": [],
   "source": []
  },
  {
   "cell_type": "code",
   "execution_count": 11,
   "metadata": {
    "scrolled": false
   },
   "outputs": [
    {
     "name": "stdout",
     "output_type": "stream",
     "text": [
      "0.0812216386148\n"
     ]
    }
   ],
   "source": [
    "hasil_ukf, utm, t_state, t_utm = ambil_bag()\n",
    "    \n",
    "errorr=err2(hasil_ukf, utm, t_state, t_utm)"
   ]
  },
  {
   "cell_type": "code",
   "execution_count": 13,
   "metadata": {
    "scrolled": false
   },
   "outputs": [],
   "source": [
    "fit = 1/errorr"
   ]
  },
  {
   "cell_type": "code",
   "execution_count": 14,
   "metadata": {
    "scrolled": false
   },
   "outputs": [
    {
     "data": {
      "text/plain": [
       "12.311989970337988"
      ]
     },
     "execution_count": 14,
     "metadata": {},
     "output_type": "execute_result"
    }
   ],
   "source": [
    "fit"
   ]
  },
  {
   "cell_type": "code",
   "execution_count": null,
   "metadata": {
    "collapsed": true,
    "scrolled": false
   },
   "outputs": [],
   "source": []
  },
  {
   "cell_type": "code",
   "execution_count": null,
   "metadata": {
    "collapsed": true,
    "scrolled": false
   },
   "outputs": [],
   "source": []
  },
  {
   "cell_type": "code",
   "execution_count": null,
   "metadata": {
    "collapsed": true,
    "scrolled": false
   },
   "outputs": [],
   "source": []
  },
  {
   "cell_type": "code",
   "execution_count": null,
   "metadata": {
    "collapsed": true,
    "scrolled": false
   },
   "outputs": [],
   "source": []
  },
  {
   "cell_type": "code",
   "execution_count": null,
   "metadata": {
    "collapsed": true,
    "scrolled": false
   },
   "outputs": [],
   "source": []
  },
  {
   "cell_type": "code",
   "execution_count": null,
   "metadata": {
    "collapsed": true,
    "scrolled": false
   },
   "outputs": [],
   "source": []
  },
  {
   "cell_type": "code",
   "execution_count": null,
   "metadata": {
    "collapsed": true,
    "scrolled": false
   },
   "outputs": [],
   "source": []
  },
  {
   "cell_type": "code",
   "execution_count": null,
   "metadata": {
    "collapsed": true,
    "scrolled": false
   },
   "outputs": [],
   "source": []
  },
  {
   "cell_type": "code",
   "execution_count": null,
   "metadata": {
    "collapsed": true,
    "scrolled": false
   },
   "outputs": [],
   "source": []
  },
  {
   "cell_type": "code",
   "execution_count": null,
   "metadata": {
    "collapsed": true,
    "scrolled": false
   },
   "outputs": [],
   "source": []
  },
  {
   "cell_type": "code",
   "execution_count": null,
   "metadata": {
    "collapsed": true,
    "scrolled": false
   },
   "outputs": [],
   "source": []
  },
  {
   "cell_type": "code",
   "execution_count": null,
   "metadata": {
    "collapsed": true,
    "scrolled": false
   },
   "outputs": [],
   "source": []
  }
 ],
 "metadata": {
  "kernelspec": {
   "display_name": "Python 3",
   "language": "python",
   "name": "python3"
  },
  "language_info": {
   "codemirror_mode": {
    "name": "ipython",
    "version": 3
   },
   "file_extension": ".py",
   "mimetype": "text/x-python",
   "name": "python",
   "nbconvert_exporter": "python",
   "pygments_lexer": "ipython3",
   "version": "3.8.3"
  }
 },
 "nbformat": 4,
 "nbformat_minor": 2
}
